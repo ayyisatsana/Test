{
  "nbformat": 4,
  "nbformat_minor": 0,
  "metadata": {
    "colab": {
      "provenance": [],
      "authorship_tag": "ABX9TyNuF9kbll3MednTLoddjabo"
    },
    "kernelspec": {
      "name": "python3",
      "display_name": "Python 3"
    },
    "language_info": {
      "name": "python"
    }
  },
  "cells": [
    {
      "cell_type": "markdown",
      "source": [
        "## 1. Complementing a Strand of DNA"
      ],
      "metadata": {
        "id": "Diy7JEgPYrXI"
      }
    },
    {
      "cell_type": "code",
      "execution_count": 1,
      "metadata": {
        "id": "KF5HfCGMhs70"
      },
      "outputs": [],
      "source": [
        "def reverse_complement(dna_seq):\n",
        "    complement = {'A': 'T', 'C': 'G', 'G': 'C', 'T': 'A'}\n",
        "    rev_seq = dna_seq[::-1]\n",
        "    rev_comp_seq = [complement[base] for base in rev_seq]\n",
        "    return ''.join(rev_comp_seq)"
      ]
    },
    {
      "cell_type": "code",
      "source": [
        "dna_seq = 'ATCGATCGATCG'\n",
        "reverse_complement(dna_seq)"
      ],
      "metadata": {
        "colab": {
          "base_uri": "https://localhost:8080/",
          "height": 35
        },
        "id": "m-wtiT4clb2z",
        "outputId": "ce7a3d56-7abe-40ea-e187-0e6fe38f3bd2"
      },
      "execution_count": 2,
      "outputs": [
        {
          "output_type": "execute_result",
          "data": {
            "text/plain": [
              "'CGATCGATCGAT'"
            ],
            "application/vnd.google.colaboratory.intrinsic+json": {
              "type": "string"
            }
          },
          "metadata": {},
          "execution_count": 2
        }
      ]
    },
    {
      "cell_type": "markdown",
      "source": [
        "## 2. Computing GC Content"
      ],
      "metadata": {
        "id": "f3S-VbVdZDCb"
      }
    },
    {
      "cell_type": "code",
      "source": [
        "#Create a list separating id's and sequences\n",
        "def process_input(fasta):\n",
        "    fasta_list = fasta.strip().split(\">\")[1:]\n",
        "    dna_strings = []\n",
        "    for string in fasta_list:\n",
        "      parts = string.split(\"\\n\", 1)\n",
        "      seq_id = parts[0]\n",
        "      seq_data = parts[1].replace(\"\\n\", \"\")\n",
        "      dna_strings.append((seq_id, seq_data))\n",
        "    return dna_strings\n",
        "\n",
        "#Calculate GC-content\n",
        "def gc_content(dna_seq):\n",
        "    gc_count = dna_seq.count('G') + dna_seq.count('C')\n",
        "    return gc_count / len(dna_seq)\n",
        "\n",
        "def highest_gc_content(dna_strings):\n",
        "  highest_gc_id = \"\"\n",
        "  highest_gc_content = 0.0\n",
        "  for string in dna_strings:\n",
        "    gc = gc_content(string[1])\n",
        "    if gc > highest_gc_content:\n",
        "      highest_gc_id = string[0]\n",
        "      highest_gc_content = gc\n",
        "  return print(f'{highest_gc_id}\\n{round(highest_gc_content*100, 6):.6f}')"
      ],
      "metadata": {
        "id": "ksmRNAeVmCdj"
      },
      "execution_count": 3,
      "outputs": []
    },
    {
      "cell_type": "code",
      "source": [
        "fasta = '''>Rosalind_6404\n",
        "CCTGCGGAAGATCGGCACTAGAATAGCCAGAACCGTTTCTCTGAGGCTTCCGGCCTTCCC\n",
        "TCCCACTAATAATTCTGAGG\n",
        ">Rosalind_5959\n",
        "CCATCGGTAGCGCATCCTTAGTCCAATTAAGTCCCTATCCAGGCGCTCCGCCGAAGGTCT\n",
        "ATATCCATTTGTCAGCAGACACGC\n",
        ">Rosalind_0808\n",
        "CCACCCTCGTGGTATGGCTAGGCATTCAGGAACCGGAGAACGCTTCAGACCAGCCCGGAC\n",
        "TGGGAACCTGCGGGCAGTAGGTGGAAT'''\n",
        "\n",
        "highest_gc_content(process_input(input_string))"
      ],
      "metadata": {
        "colab": {
          "base_uri": "https://localhost:8080/"
        },
        "id": "uJMlgWUxr7Xl",
        "outputId": "44c8dc72-aeb2-42cc-eecd-0faab16b18cb"
      },
      "execution_count": 4,
      "outputs": [
        {
          "output_type": "stream",
          "name": "stdout",
          "text": [
            "Rosalind_0808\n",
            "60.919540\n"
          ]
        }
      ]
    },
    {
      "cell_type": "markdown",
      "source": [
        "## 3. Translating RNA into Protein"
      ],
      "metadata": {
        "id": "7fdvCPz-ZNeX"
      }
    },
    {
      "cell_type": "code",
      "source": [
        "codon_table = {\n",
        "        'UUU': 'F', 'UUC': 'F', 'UUA': 'L', 'UUG': 'L',\n",
        "        'UCU': 'S', 'UCC': 'S', 'UCA': 'S', 'UCG': 'S',\n",
        "        'UAU': 'Y', 'UAC': 'Y', 'UAA': ' ', 'UAG': ' ',\n",
        "        'UGU': 'C', 'UGC': 'C', 'UGA': ' ', 'UGG': 'W',\n",
        "        'CUU': 'L', 'CUC': 'L', 'CUA': 'L', 'CUG': 'L',\n",
        "        'CCU': 'P', 'CCC': 'P', 'CCA': 'P', 'CCG': 'P',\n",
        "        'CAU': 'H', 'CAC': 'H', 'CAA': 'Q', 'CAG': 'Q',\n",
        "        'CGU': 'R', 'CGC': 'R', 'CGA': 'R', 'CGG': 'R',\n",
        "        'AUU': 'I', 'AUC': 'I', 'AUA': 'I', 'AUG': 'M',\n",
        "        'ACU': 'T', 'ACC': 'T', 'ACA': 'T', 'ACG': 'T',\n",
        "        'AAU': 'N', 'AAC': 'N', 'AAA': 'K', 'AAG': 'K',\n",
        "        'AGU': 'S', 'AGC': 'S', 'AGA': 'R', 'AGG': 'R',\n",
        "        'GUU': 'V', 'GUC': 'V', 'GUA': 'V', 'GUG': 'V',\n",
        "        'GCU': 'A', 'GCC': 'A', 'GCA': 'A', 'GCG': 'A',\n",
        "        'GAU': 'D', 'GAC': 'D', 'GAA': 'E', 'GAG': 'E',\n",
        "        'GGU': 'G', 'GGC': 'G', 'GGA': 'G', 'GGG': 'G',\n",
        "    }\n",
        "\n",
        "def translate(rna_seq):\n",
        "    protein_seq = ''\n",
        "    for i in range(0, len(rna_seq)-2, 3):\n",
        "        codon = rna_seq[i:i+3]\n",
        "        if codon_table.get(codon):\n",
        "            amino_acid = codon_table[codon]\n",
        "            if amino_acid == ' ':\n",
        "                break  # stop translation at the first stop codon\n",
        "            protein_seq += amino_acid\n",
        "        else:\n",
        "            protein_seq += 'X'\n",
        "    return protein_seq\n"
      ],
      "metadata": {
        "id": "baceAYCoxPk_"
      },
      "execution_count": 13,
      "outputs": []
    },
    {
      "cell_type": "code",
      "source": [
        "rna_seq = 'AUGGCCAUGGCGCCCAGAACUGAGAUCAAUAGUACCCGUAUUAACGGGUGA'\n",
        "translate(rna_seq)\n"
      ],
      "metadata": {
        "colab": {
          "base_uri": "https://localhost:8080/",
          "height": 35
        },
        "id": "gHhNqgvJzrE5",
        "outputId": "0df3bd22-099b-4f93-df2e-37d74100bfd5"
      },
      "execution_count": 14,
      "outputs": [
        {
          "output_type": "execute_result",
          "data": {
            "text/plain": [
              "'MAMAPRTEINSTRING'"
            ],
            "application/vnd.google.colaboratory.intrinsic+json": {
              "type": "string"
            }
          },
          "metadata": {},
          "execution_count": 14
        }
      ]
    },
    {
      "cell_type": "markdown",
      "source": [
        "##4. Inferring mRNA from Protein"
      ],
      "metadata": {
        "id": "bYaPd0Z2ZW73"
      }
    },
    {
      "cell_type": "code",
      "source": [
        "#Create codon counts dictionary from codon table\n",
        "amino_acids = set(codon_table.values()) # Get all unique amino acids\n",
        "codon_counts = {amino_acid: 0 for amino_acid in amino_acids} # Initialize codon_counts with 0 for each amino acid\n",
        "\n",
        "for codon, amino_acid in codon_table.items():\n",
        "    codon_counts[amino_acid] += 1\n",
        "\n",
        "print(codon_counts)"
      ],
      "metadata": {
        "colab": {
          "base_uri": "https://localhost:8080/"
        },
        "id": "PRsOT4YF_sAV",
        "outputId": "1e306a5b-6afa-4a12-e8de-e014d3f8f448"
      },
      "execution_count": 20,
      "outputs": [
        {
          "output_type": "stream",
          "name": "stdout",
          "text": [
            "{'T': 4, 'I': 3, 'V': 4, 'D': 2, 'K': 2, 'R': 6, 'N': 2, 'C': 2, 'Y': 2, 'P': 4, ' ': 3, 'S': 6, 'F': 2, 'E': 2, 'Q': 2, 'W': 1, 'H': 2, 'L': 6, 'A': 4, 'M': 1, 'G': 4}\n"
          ]
        }
      ]
    },
    {
      "cell_type": "code",
      "source": [
        "def count_rna_strings(protein_seq):\n",
        "    num_possible_codons = [codon_counts[aa] for aa in protein_seq]\n",
        "    num_possible_rnas = 1\n",
        "    for num_codons in num_possible_codons:\n",
        "        num_possible_rnas = (num_possible_rnas * num_codons) % 1000000\n",
        "    return (num_possible_rnas * 3) % 1000000\n"
      ],
      "metadata": {
        "id": "5j-NOmeL7wmr"
      },
      "execution_count": 21,
      "outputs": []
    },
    {
      "cell_type": "code",
      "source": [
        "count_rna_strings('MAMAPRTEINSTRING')"
      ],
      "metadata": {
        "colab": {
          "base_uri": "https://localhost:8080/"
        },
        "id": "Ea2m5lb7-jVM",
        "outputId": "5f99c199-a267-455c-c178-4d644bd125b2"
      },
      "execution_count": 22,
      "outputs": [
        {
          "output_type": "execute_result",
          "data": {
            "text/plain": [
              "102976"
            ]
          },
          "metadata": {},
          "execution_count": 22
        }
      ]
    }
  ]
}